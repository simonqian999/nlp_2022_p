{
 "cells": [
  {
   "cell_type": "code",
   "execution_count": 3,
   "id": "702c7e2a",
   "metadata": {
    "ExecuteTime": {
     "end_time": "2022-04-28T14:40:01.393134Z",
     "start_time": "2022-04-28T14:40:01.387689Z"
    }
   },
   "outputs": [],
   "source": [
    "import pandas as pd\n",
    "import json\n",
    "from pprint import pprint\n",
    "\n",
    "def read_file(file_name):\n",
    "    '''\n",
    "    This function will read the file containing tweet ids sperating by lines (in groups)\n",
    "    '''\n",
    "    all_ids = pd.read_table(file_name,sep='\\n',header=None)\n",
    "    return all_ids"
   ]
  },
  {
   "cell_type": "code",
   "execution_count": 4,
   "id": "c5db749d",
   "metadata": {
    "ExecuteTime": {
     "end_time": "2022-04-28T14:40:03.211877Z",
     "start_time": "2022-04-28T14:40:03.157845Z"
    }
   },
   "outputs": [],
   "source": [
    "train_ids = read_file('../../project-data/train.data.txt')\n",
    "# train_ids"
   ]
  },
  {
   "cell_type": "code",
   "execution_count": 6,
   "id": "05b1f8db",
   "metadata": {
    "ExecuteTime": {
     "end_time": "2022-04-28T14:40:04.810033Z",
     "start_time": "2022-04-28T14:40:04.779002Z"
    }
   },
   "outputs": [],
   "source": [
    "dev_ids = read_file('../../project-data/dev.data.txt')\n",
    "# dev_ids"
   ]
  },
  {
   "cell_type": "code",
   "execution_count": 7,
   "id": "ce69a351",
   "metadata": {
    "ExecuteTime": {
     "end_time": "2022-04-28T14:40:07.250798Z",
     "start_time": "2022-04-28T14:40:07.136801Z"
    }
   },
   "outputs": [],
   "source": [
    "covid_ids = read_file('../../project-data/covid.data.txt')"
   ]
  },
  {
   "cell_type": "code",
   "execution_count": null,
   "id": "3143b34d",
   "metadata": {},
   "outputs": [],
   "source": []
  },
  {
   "cell_type": "code",
   "execution_count": 163,
   "id": "004aedc2",
   "metadata": {
    "ExecuteTime": {
     "end_time": "2022-04-28T16:00:10.653542Z",
     "start_time": "2022-04-28T16:00:10.625537Z"
    }
   },
   "outputs": [],
   "source": [
    "def split_file(file, output_folder_dir):\n",
    "    tweets = pd.read_json(file)\n",
    "    tweets = tweets.T.reset_index(drop=True)\n",
    "    \n",
    "    # get all users info in a dict by author id\n",
    "    users_info = tweets['includes'].map(lambda x: {n['id']: n for n in x['users']})\n",
    "    users_dict = {}\n",
    "    for i in range(len(users_info)):\n",
    "        users_dict.update(users_info[i])\n",
    "        \n",
    "    # get all tweets info\n",
    "    tweet_list = []\n",
    "    for i in range(len(tweets)):\n",
    "        tweet_list.extend(tweet for tweet in tweets['data'][i])\n",
    "        \n",
    "    # add user info to tweet info by author id\n",
    "    # and then output each tweet into json file\n",
    "    for tweet in tweet_list:\n",
    "        tweet['user'] = users_dict[tweet['author_id']]\n",
    "        \n",
    "        with open(\"{}/{}.json\".format(output_folder_dir, tweet['id']), \"w\",encoding='utf-8') as outfile:\n",
    "            json.dump(tweet, outfile)"
   ]
  },
  {
   "cell_type": "code",
   "execution_count": 164,
   "id": "692d5ceb",
   "metadata": {
    "ExecuteTime": {
     "end_time": "2022-04-28T16:00:28.674281Z",
     "start_time": "2022-04-28T16:00:14.685071Z"
    }
   },
   "outputs": [],
   "source": [
    "split_file(\"data/dev_data_all.json\", \"data/dev_data\")"
   ]
  },
  {
   "cell_type": "code",
   "execution_count": 153,
   "id": "1b20f2ea",
   "metadata": {
    "ExecuteTime": {
     "end_time": "2022-04-28T15:53:33.462786Z",
     "start_time": "2022-04-28T15:53:01.963128Z"
    }
   },
   "outputs": [],
   "source": [
    "split_file(\"data/train_data_all.json\", \"data/train_data\")"
   ]
  },
  {
   "cell_type": "code",
   "execution_count": 178,
   "id": "a73997ea",
   "metadata": {
    "ExecuteTime": {
     "end_time": "2022-04-28T16:20:50.256758Z",
     "start_time": "2022-04-28T16:07:30.475492Z"
    }
   },
   "outputs": [],
   "source": [
    "split_file(\"data/covid_data_all.json\", \"data/covid_data\")"
   ]
  }
 ],
 "metadata": {
  "kernelspec": {
   "display_name": "Python 3 (ipykernel)",
   "language": "python",
   "name": "python3"
  },
  "language_info": {
   "codemirror_mode": {
    "name": "ipython",
    "version": 3
   },
   "file_extension": ".py",
   "mimetype": "text/x-python",
   "name": "python",
   "nbconvert_exporter": "python",
   "pygments_lexer": "ipython3",
   "version": "3.7.6"
  },
  "varInspector": {
   "cols": {
    "lenName": 16,
    "lenType": 16,
    "lenVar": 40
   },
   "kernels_config": {
    "python": {
     "delete_cmd_postfix": "",
     "delete_cmd_prefix": "del ",
     "library": "var_list.py",
     "varRefreshCmd": "print(var_dic_list())"
    },
    "r": {
     "delete_cmd_postfix": ") ",
     "delete_cmd_prefix": "rm(",
     "library": "var_list.r",
     "varRefreshCmd": "cat(var_dic_list()) "
    }
   },
   "types_to_exclude": [
    "module",
    "function",
    "builtin_function_or_method",
    "instance",
    "_Feature"
   ],
   "window_display": false
  }
 },
 "nbformat": 4,
 "nbformat_minor": 5
}
